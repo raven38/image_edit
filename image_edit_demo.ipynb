{
 "cells": [
  {
   "cell_type": "markdown",
   "metadata": {},
   "source": [
    "# Install Dlib"
   ]
  },
  {
   "cell_type": "code",
   "execution_count": null,
   "metadata": {},
   "outputs": [],
   "source": [
    "!pip install dlib"
   ]
  },
  {
   "cell_type": "markdown",
   "metadata": {
    "id": "qJDJLE3v0HNr"
   },
   "source": [
    "# Fetch Codebase"
   ]
  },
  {
   "cell_type": "code",
   "execution_count": 1,
   "metadata": {
    "cellView": "form",
    "collapsed": true,
    "id": "JqiWKjpFa0ov"
   },
   "outputs": [
    {
     "ename": "FileNotFoundError",
     "evalue": "[Errno 2] No such file or directory: '/content'",
     "output_type": "error",
     "traceback": [
      "\u001b[0;31m---------------------------------------------------------------------------\u001b[0m",
      "\u001b[0;31mFileNotFoundError\u001b[0m                         Traceback (most recent call last)",
      "\u001b[0;32m<ipython-input-1-94e7b626b04f>\u001b[0m in \u001b[0;36m<module>\u001b[0;34m\u001b[0m\n\u001b[1;32m      1\u001b[0m \u001b[0;31m#@title\u001b[0m\u001b[0;34m\u001b[0m\u001b[0;34m\u001b[0m\u001b[0;34m\u001b[0m\u001b[0m\n\u001b[1;32m      2\u001b[0m \u001b[0;32mimport\u001b[0m \u001b[0mos\u001b[0m\u001b[0;34m\u001b[0m\u001b[0;34m\u001b[0m\u001b[0m\n\u001b[0;32m----> 3\u001b[0;31m \u001b[0mos\u001b[0m\u001b[0;34m.\u001b[0m\u001b[0mchdir\u001b[0m\u001b[0;34m(\u001b[0m\u001b[0;34m'/content'\u001b[0m\u001b[0;34m)\u001b[0m\u001b[0;34m\u001b[0m\u001b[0;34m\u001b[0m\u001b[0m\n\u001b[0m\u001b[1;32m      4\u001b[0m \u001b[0mCODE_DIR\u001b[0m \u001b[0;34m=\u001b[0m \u001b[0;34m'image_editor'\u001b[0m\u001b[0;34m\u001b[0m\u001b[0;34m\u001b[0m\u001b[0m\n\u001b[1;32m      5\u001b[0m \u001b[0mget_ipython\u001b[0m\u001b[0;34m(\u001b[0m\u001b[0;34m)\u001b[0m\u001b[0;34m.\u001b[0m\u001b[0msystem\u001b[0m\u001b[0;34m(\u001b[0m\u001b[0;34m'git clone https://github.com/raven38/image_edit.git $CODE_DIR'\u001b[0m\u001b[0;34m)\u001b[0m\u001b[0;34m\u001b[0m\u001b[0;34m\u001b[0m\u001b[0m\n",
      "\u001b[0;31mFileNotFoundError\u001b[0m: [Errno 2] No such file or directory: '/content'"
     ]
    }
   ],
   "source": [
    "#@title\n",
    "import os\n",
    "os.chdir('/content')\n",
    "CODE_DIR = 'image_editor'\n",
    "!git clone https://github.com/raven38/image_edit.git $CODE_DIR\n",
    "os.chdir(f'./{CODE_DIR}')"
   ]
  },
  {
   "cell_type": "markdown",
   "metadata": {
    "id": "hQ_IXBZr8YcJ"
   },
   "source": [
    "# Define Utility Functions"
   ]
  },
  {
   "cell_type": "code",
   "execution_count": 2,
   "metadata": {
    "cellView": "form",
    "id": "ijKTlG5GeTd3"
   },
   "outputs": [],
   "source": [
    "#@title\n",
    "import os.path\n",
    "import io\n",
    "import IPython.display\n",
    "import numpy as np\n",
    "import cv2\n",
    "from io import BytesIO\n",
    "from PIL import Image\n",
    "\n",
    "import torch\n",
    "\n",
    "from sefa.models import parse_gan_type\n",
    "from utils import to_tensor\n",
    "from utils import postprocess\n",
    "from utils import load_generator\n",
    "from utils import factorize_weight\n",
    "\n",
    "def sample(model, gan_type, num=1, codes=None):\n",
    "    \"\"\"Samples latent codes.\"\"\"\n",
    "    postf = lambda x: x\n",
    "    if codes is None:\n",
    "        postf = lambda x: x.detach().cpu().numpy()\n",
    "        codes = torch.randn(num, model.z_space_dim).cuda()\n",
    "\n",
    "    if gan_type == 'pggan':\n",
    "        codes = model.layer0.pixel_norm(codes)\n",
    "    elif gan_type == 'stylegan':\n",
    "        codes = model.mapping(codes)['w']\n",
    "        codes = model.truncation(codes,\n",
    "                                 trunc_psi=0.7,\n",
    "                                 trunc_layers=8)\n",
    "    elif gan_type == 'stylegan2':\n",
    "        codes = model.mapping(codes)['w']\n",
    "        codes = model.truncation(codes,\n",
    "                                 trunc_psi=0.5,\n",
    "                                 trunc_layers=18)\n",
    "    return postf(codes)\n",
    "\n",
    "def synthesize(model, gan_type, code):\n",
    "    \"\"\"Synthesizes an image with the give code.\"\"\"\n",
    "    if gan_type == 'pggan':\n",
    "        image = model(to_tensor(code))['image']\n",
    "    elif gan_type in ['stylegan', 'stylegan2']:\n",
    "        image = model.synthesis(to_tensor(code))['image']\n",
    "    image = postprocess(image)[0]\n",
    "    return image\n",
    "\n",
    "\n",
    "def make_aligned_image(img_file_buffer, input_image_path, aligned_image_path):\n",
    "    Image.open(BytesIO(img_file_buffer)).save(input_image_path)\n",
    "    align_image(tname.name, aligned_image_path)"
   ]
  },
  {
   "cell_type": "markdown",
   "metadata": {
    "id": "Q7gkmrVW8eR1"
   },
   "source": [
    "# Select a Model"
   ]
  },
  {
   "cell_type": "code",
   "execution_count": null,
   "metadata": {
    "id": "NoWI4fPQ6Gnf"
   },
   "outputs": [],
   "source": [
    "#@title { display-mode: \"form\", run: \"auto\" }\n",
    "model_name = \"stylegan_ffhq1024\" #@param ['stylegan_ffhq1024', 'pggan_celebahq1024']\n",
    "\n",
    "generator = load_generator(model_name)\n",
    "gan_type = parse_gan_type(generator)"
   ]
  },
  {
   "cell_type": "markdown",
   "metadata": {
    "id": "zDStH1O5t1KC"
   },
   "source": [
    "# Sample Latent Codes"
   ]
  },
  {
   "cell_type": "code",
   "execution_count": null,
   "metadata": {
    "id": "qlRGKZbJt9hA"
   },
   "outputs": [],
   "source": [
    "#@title { display-mode: \"form\", run: \"auto\" }\n",
    "\n",
    "num_samples = 3 #@param {type:\"slider\", min:1, max:8, step:1}\n",
    "noise_seed = 0 #@param {type:\"slider\", min:0, max:1000, step:1}\n",
    "\n",
    "codes = sample(generator, gan_type, num_samples, noise_seed)\n",
    "images = synthesize(generator, gan_type, codes)\n",
    "imshow(images, col=num_samples)"
   ]
  },
  {
   "cell_type": "markdown",
   "metadata": {},
   "source": [
    "# Upload Face Image"
   ]
  },
  {
   "cell_type": "code",
   "execution_count": null,
   "metadata": {},
   "outputs": [],
   "source": [
    "#@title\n",
    "aligned_image = 'align.png'\n",
    "from google.colab import files\n",
    "uploaded_files = files.upload()\n",
    "k, v = list(uploaded_files.items())[0]\n",
    "make_aligned_image(k, v, aligned_image)\n",
    "iteration = 500\n",
    "codes = optimize_style(aligned_image_path, model, model_name, gan_type, base_codes, iteration, bar)"
   ]
  },
  {
   "cell_type": "markdown",
   "metadata": {
    "id": "MmRPN3xz8jCH"
   },
   "source": [
    "# Factorize & Edit"
   ]
  },
  {
   "cell_type": "code",
   "execution_count": null,
   "metadata": {
    "id": "ccONBF60mVir"
   },
   "outputs": [],
   "source": [
    "#@title { display-mode: \"form\", run: \"auto\" }\n",
    "\n",
    "layer_idx = \"0-1\" #@param ['all', '0-1', '2-5', '6-13']\n",
    "semantic_1 = 0 #@param {type:\"slider\", min:-3.0, max:3.0, step:0.1}\n",
    "semantic_2 = 0 #@param {type:\"slider\", min:-3.0, max:3.0, step:0.1}\n",
    "semantic_3 = 0 #@param {type:\"slider\", min:-3.0, max:3.0, step:0.1}\n",
    "semantic_4 = 0 #@param {type:\"slider\", min:-3.0, max:3.0, step:0.1}\n",
    "semantic_5 = 0 #@param {type:\"slider\", min:-3.0, max:3.0, step:0.1}\n",
    "\n",
    "# Fast implementation to factorize the weight by SeFa.\n",
    "layers, boundaries, _ = factorize_weight(generator, layer_idx)\n",
    "\n",
    "new_codes = codes.copy()\n",
    "for sem_idx in range(5):\n",
    "  boundary = boundaries[sem_idx:sem_idx + 1]\n",
    "  step = eval(f'semantic_{sem_idx + 1}')\n",
    "  if gan_type == 'pggan':\n",
    "    new_codes += boundary * step\n",
    "  elif gan_type in ['stylegan', 'stylegan2']:\n",
    "    new_codes[:, layers, :] += boundary * step\n",
    "new_images = synthesize(generator, gan_type, new_codes)\n",
    "imshow(new_images, col=num_samples)"
   ]
  }
 ],
 "metadata": {
  "accelerator": "GPU",
  "colab": {
   "collapsed_sections": [],
   "name": "SeFa",
   "provenance": [],
   "toc_visible": true
  },
  "kernelspec": {
   "display_name": "Python 3",
   "language": "python",
   "name": "python3"
  },
  "language_info": {
   "codemirror_mode": {
    "name": "ipython",
    "version": 3
   },
   "file_extension": ".py",
   "mimetype": "text/x-python",
   "name": "python",
   "nbconvert_exporter": "python",
   "pygments_lexer": "ipython3",
   "version": "3.8.5"
  }
 },
 "nbformat": 4,
 "nbformat_minor": 1
}
